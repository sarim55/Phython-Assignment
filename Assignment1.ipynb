{
 "cells": [
  {
   "cell_type": "code",
   "execution_count": 5,
   "metadata": {},
   "outputs": [
    {
     "name": "stdout",
     "output_type": "stream",
     "text": [
      "Twinkle, twinkle, little star,\n",
      "\tHow I wonder what you are!\n",
      "\t\tUp above the world so high,\n",
      "\t\tLike a diamond in the sky.\n",
      "Twinkle, twinkle, little star,\n",
      "\tHow I wonder what you are\n"
     ]
    }
   ],
   "source": [
    "print(\"Twinkle, twinkle, little star,\")\n",
    "print(\"\\tHow I wonder what you are!\")\n",
    "print(\"\\t\\tUp above the world so high,\")\n",
    "print(\"\\t\\tLike a diamond in the sky.\")\n",
    "print(\"Twinkle, twinkle, little star,\")\n",
    "print(\"\\tHow I wonder what you are\")"
   ]
  },
  {
   "cell_type": "code",
   "execution_count": 6,
   "metadata": {},
   "outputs": [
    {
     "name": "stdout",
     "output_type": "stream",
     "text": [
      "3.7.4 (default, Aug  9 2019, 18:34:13) [MSC v.1915 64 bit (AMD64)]\n"
     ]
    }
   ],
   "source": [
    "import sys\n",
    "print(sys.version)"
   ]
  },
  {
   "cell_type": "code",
   "execution_count": 7,
   "metadata": {},
   "outputs": [
    {
     "name": "stdout",
     "output_type": "stream",
     "text": [
      "2019-11-03 21:46:27.863473\n"
     ]
    }
   ],
   "source": [
    "from datetime import datetime\n",
    "print(datetime.now())"
   ]
  },
  {
   "cell_type": "code",
   "execution_count": 9,
   "metadata": {},
   "outputs": [
    {
     "name": "stdout",
     "output_type": "stream",
     "text": [
      "Enter the value of radius 4.5\n",
      "28.26\n"
     ]
    }
   ],
   "source": [
    "a=float(input(\"Enter the value of radius \"))\n",
    "area=2*3.14*a\n",
    "print(area)"
   ]
  },
  {
   "cell_type": "code",
   "execution_count": 10,
   "metadata": {},
   "outputs": [
    {
     "name": "stdout",
     "output_type": "stream",
     "text": [
      "Enter the first nameSarim\n",
      "Enter the last nameAli Khan\n",
      "m i r a S \n",
      "m i r a S \n",
      "n a h K   i l A \n"
     ]
    }
   ],
   "source": [
    "n1 =input(\"Enter the first name\")\n",
    "n2 = input(\"Enter the last name\")\n",
    "count=0\n",
    "count2=0\n",
    "for s in n1:\n",
    "    count+=1\n",
    "for s in n2:\n",
    "    count2 +=1\n",
    "for s in n1:\n",
    "    if s == n1[0]:\n",
    "        s1 =n1[count-1] + \" \"\n",
    "    else:\n",
    "        s1 =  s1 + n1[count-1] + \" \"\n",
    "    count -=1\n",
    "print(s1) \n",
    "for s in n2:\n",
    "    if s == n2[0]:\n",
    "        s2 =n2[count2-1] + \" \"\n",
    "    else:\n",
    "        s2 =  s2 + n2[count2-1] + \" \"\n",
    "    count2 -=1\n",
    "print(s1) \n",
    "print(s2) "
   ]
  },
  {
   "cell_type": "code",
   "execution_count": 11,
   "metadata": {},
   "outputs": [
    {
     "name": "stdout",
     "output_type": "stream",
     "text": [
      "Enter first number21\n",
      "Enter second number81\n",
      "102\n"
     ]
    }
   ],
   "source": [
    "no1=int(input(\"Enter first number\"))\n",
    "no2=int(input(\"Enter second number\"))\n",
    "total=no1+no2\n",
    "print(total)\n"
   ]
  },
  {
   "cell_type": "code",
   "execution_count": null,
   "metadata": {},
   "outputs": [],
   "source": []
  }
 ],
 "metadata": {
  "kernelspec": {
   "display_name": "Python 3",
   "language": "python",
   "name": "python3"
  },
  "language_info": {
   "codemirror_mode": {
    "name": "ipython",
    "version": 3
   },
   "file_extension": ".py",
   "mimetype": "text/x-python",
   "name": "python",
   "nbconvert_exporter": "python",
   "pygments_lexer": "ipython3",
   "version": "3.7.4"
  }
 },
 "nbformat": 4,
 "nbformat_minor": 2
}
