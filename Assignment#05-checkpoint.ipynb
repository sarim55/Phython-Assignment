{
 "cells": [
  {
   "cell_type": "code",
   "execution_count": 2,
   "metadata": {},
   "outputs": [
    {
     "name": "stdout",
     "output_type": "stream",
     "text": [
      "21\n"
     ]
    }
   ],
   "source": [
    "def factorial(x):\n",
    "    if x == 1 or x ==0:\n",
    "        return 1\n",
    "    else:\n",
    "        y=x+factorial(x-1)\n",
    "        return y\n",
    "z=factorial(6)\n",
    "print(z)"
   ]
  },
  {
   "cell_type": "code",
   "execution_count": 5,
   "metadata": {},
   "outputs": [
    {
     "name": "stdout",
     "output_type": "stream",
     "text": [
      "Enter the StringSarIM\n",
      "No. of Upper Case Letter: 3 \n",
      "No. of Lower Case Letter: 2\n"
     ]
    }
   ],
   "source": [
    "def num(string):\n",
    "    d=0\n",
    "    e=0\n",
    "    for i in string:\n",
    "        if i.isupper():\n",
    "            e=e+1\n",
    "        else:\n",
    "            d=d+1\n",
    "    \n",
    "    print(\"No. of Upper Case Letter:\",e,\"\\nNo. of Lower Case Letter:\",d)\n",
    "\n",
    "string = input(\"Enter the String\")\n",
    "num(string)"
   ]
  },
  {
   "cell_type": "code",
   "execution_count": 8,
   "metadata": {},
   "outputs": [
    {
     "name": "stdout",
     "output_type": "stream",
     "text": [
      "2\n",
      "4\n",
      "6\n",
      "8\n",
      "6\n",
      "8\n"
     ]
    }
   ],
   "source": [
    "def eve(a):\n",
    "    for b in range(len(a)):\n",
    "        if a[b] % 2==0:\n",
    "            print(a[b])\n",
    "\n",
    "b=[1,2,3,9,3,4,5,6,7,8,6,8,9,]     \n",
    "eve(b)"
   ]
  },
  {
   "cell_type": "code",
   "execution_count": 9,
   "metadata": {},
   "outputs": [
    {
     "name": "stdout",
     "output_type": "stream",
     "text": [
      "Enter the String to check palindrome or not: sarim\n",
      "Number is not palindrome\n"
     ]
    }
   ],
   "source": [
    "\n",
    "def starit(ss):\n",
    "    ss = string[::-1]\n",
    "    if ss == string:\n",
    "        print(\"Number is palindrome\")\n",
    "        \n",
    "    else:\n",
    "        print(\"Number is not palindrome\")\n",
    "\n",
    "\n",
    "string = input(\"Enter the String to check palindrome or not: \")\n",
    "starit(string)"
   ]
  },
  {
   "cell_type": "code",
   "execution_count": 12,
   "metadata": {},
   "outputs": [
    {
     "name": "stdout",
     "output_type": "stream",
     "text": [
      "Number is not Prime 20 2 0\n"
     ]
    }
   ],
   "source": [
    "def prim(a):\n",
    "    for b in range(2,a):\n",
    "        if (a%b)==0:\n",
    "            print(\"Number is not Prime\",a,b,a%b)\n",
    "            break\n",
    "    else:\n",
    "        print(\"Number is  prime\")\n",
    "            \n",
    "            \n",
    "prim(20)"
   ]
  },
  {
   "cell_type": "code",
   "execution_count": 14,
   "metadata": {},
   "outputs": [
    {
     "name": "stdout",
     "output_type": "stream",
     "text": [
      "Person Bought:  Fruits\n",
      "Person Bought:  Medicine\n"
     ]
    }
   ],
   "source": [
    "list = {1:\"Stationary\",2:\"Fruits\",3:\"Candies\",4:\"perfume\",5:\"Medicine\"}\n",
    "def check(*value):\n",
    "    for i in value:\n",
    "        for j,k in list.items():\n",
    "            if i==j:\n",
    "                print(\"Person Bought: \",k)\n",
    "\n",
    "check(2,5)"
   ]
  },
  {
   "cell_type": "code",
   "execution_count": null,
   "metadata": {},
   "outputs": [],
   "source": []
  }
 ],
 "metadata": {
  "kernelspec": {
   "display_name": "Python 3",
   "language": "python",
   "name": "python3"
  },
  "language_info": {
   "codemirror_mode": {
    "name": "ipython",
    "version": 3
   },
   "file_extension": ".py",
   "mimetype": "text/x-python",
   "name": "python",
   "nbconvert_exporter": "python",
   "pygments_lexer": "ipython3",
   "version": "3.7.4"
  }
 },
 "nbformat": 4,
 "nbformat_minor": 2
}
