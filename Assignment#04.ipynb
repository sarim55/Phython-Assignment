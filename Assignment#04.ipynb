{
 "cells": [
  {
   "cell_type": "code",
   "execution_count": 4,
   "metadata": {},
   "outputs": [
    {
     "name": "stdout",
     "output_type": "stream",
     "text": [
      "{'first_name': 'Sarim', 'last_name': 'Ali Khan', 'age': 19, 'city': 'Karachi', 'qualification': 'Middle'}\n",
      "{'first_name': 'Sarim', 'last_name': 'Ali Khan', 'age': 19, 'city': 'Karachi', 'qualification': 'Matric'}\n",
      "{'first_name': 'Sarim', 'last_name': 'Ali Khan', 'age': 19, 'city': 'Karachi'}\n"
     ]
    }
   ],
   "source": [
    "Bio_data={\n",
    "\"first_name\" : \"Sarim\",\n",
    "\"last_name\"  : \"Ali Khan\",\n",
    "\"age\" : 19,\n",
    "\"city\": \"Karachi\"    \n",
    "}\n",
    "Bio_data[\"qualification\"] = \"Middle\"\n",
    "print(Bio_data)\n",
    "Bio_data[\"qualification\"] = \"Matric\"\n",
    "print(Bio_data)\n",
    "del Bio_data[\"qualification\"]\n",
    "print(Bio_data)"
   ]
  },
  {
   "cell_type": "code",
   "execution_count": 13,
   "metadata": {},
   "outputs": [
    {
     "name": "stdout",
     "output_type": "stream",
     "text": [
      "{'Karachi': {'Country': 'Pakistan', 'Population': 14900000, 'Fact': \"Karachi is now Pakistan's premier industrial and financial centre\"}, 'Beijing': {'Country': 'China', 'Population': '21.54 million', 'Fact': \"China's second largest city after Shanghai\"}, 'Dubai': {'Country': 'UAE', 'Population': 3137000, 'Fact': 'Burj Khalifa is the world’s tallest building, and it’s for sure the most impressive part of the skyline here'}}\n",
      "\n",
      "\n",
      "China's second largest city after Shanghai\n"
     ]
    }
   ],
   "source": [
    "cities={\n",
    "     \"Karachi\":{\n",
    "\"Country\" : \"Pakistan\",\n",
    "  \"Population\" : 14900000,      \n",
    "  \"Fact\" : \"Karachi is now Pakistan's premier industrial and financial centre\"  },\n",
    "   \"Beijing\":{\n",
    "        \"Country\":\"China\",\n",
    "        \"Population\":\"21.54 million\",\n",
    "        \"Fact\":\"China's second largest city after Shanghai\"\n",
    "    },\n",
    "      \"Dubai\": {\n",
    "     \"Country\": \"UAE\",\n",
    "     \"Population\": 3137000,\n",
    "\"Fact\" : \"Burj Khalifa is the world’s tallest building, and it’s for sure the most impressive part of the skyline here\"\n",
    " }\n",
    "}\n",
    "print(cities)\n",
    "print(\"\\n\")\n",
    "print(cities[\"Beijing\"][\"Fact\"])"
   ]
  },
  {
   "cell_type": "code",
   "execution_count": 14,
   "metadata": {},
   "outputs": [
    {
     "name": "stdout",
     "output_type": "stream",
     "text": [
      "Enter your age for ticket price  6\n",
      "ticket is $10\n"
     ]
    }
   ],
   "source": [
    "age = int(input(\"Enter your age for ticket price  \"))\n",
    "if age < 3:\n",
    "    print(\"ticket is free\")\n",
    "\n",
    "elif age>= 3 and age<=12:\n",
    "    print(\"ticket is $10\")\n",
    "\n",
    "else:\n",
    "    print(\"ticket is $15\")"
   ]
  },
  {
   "cell_type": "code",
   "execution_count": 15,
   "metadata": {},
   "outputs": [
    {
     "name": "stdout",
     "output_type": "stream",
     "text": [
      "One of my favorite book is Alice the Wonderland\n"
     ]
    }
   ],
   "source": [
    "def favorite_book(tittle):\n",
    "    print(\"One of my favorite book is \"+tittle)\n",
    "    \n",
    "    \n",
    "favorite_book(\"Alice the Wonderland\")"
   ]
  },
  {
   "cell_type": "code",
   "execution_count": 21,
   "metadata": {},
   "outputs": [
    {
     "name": "stdout",
     "output_type": "stream",
     "text": [
      "You have three Chances\n",
      "Guess the number: 29\n",
      "Guess number is greater\n",
      "Guess the number: 21\n",
      "Guess number is lesser\n",
      "Guess the number: 25\n",
      "Guess number is lesser\n",
      "number is  28\n"
     ]
    }
   ],
   "source": [
    "import random\n",
    "num = random.randint(0,30)\n",
    "print(\"You have three Chances\")\n",
    "for a in range(0,3):\n",
    "    b = int(input(\"Guess the number: \"))\n",
    "    if b == num:\n",
    "        print(\"Enter the number is matched\")\n",
    "        break\n",
    "    elif b < num:\n",
    "        print(\"Guess number is lesser\")\n",
    "    else:\n",
    "        print(\"Guess number is greater\")\n",
    "print(\"number is \",num)  "
   ]
  },
  {
   "cell_type": "code",
   "execution_count": null,
   "metadata": {},
   "outputs": [],
   "source": []
  },
  {
   "cell_type": "code",
   "execution_count": null,
   "metadata": {},
   "outputs": [],
   "source": []
  }
 ],
 "metadata": {
  "kernelspec": {
   "display_name": "Python 3",
   "language": "python",
   "name": "python3"
  },
  "language_info": {
   "codemirror_mode": {
    "name": "ipython",
    "version": 3
   },
   "file_extension": ".py",
   "mimetype": "text/x-python",
   "name": "python",
   "nbconvert_exporter": "python",
   "pygments_lexer": "ipython3",
   "version": "3.7.4"
  }
 },
 "nbformat": 4,
 "nbformat_minor": 2
}
