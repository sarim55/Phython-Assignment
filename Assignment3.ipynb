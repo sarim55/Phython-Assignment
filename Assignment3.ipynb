{
 "cells": [
  {
   "cell_type": "code",
   "execution_count": 1,
   "metadata": {},
   "outputs": [
    {
     "name": "stdout",
     "output_type": "stream",
     "text": [
      "Enter the operator and P for powerP\n",
      "Enter the First Number2\n",
      "Enter the Second Number3\n",
      "Enter power4\n",
      "16\n"
     ]
    }
   ],
   "source": [
    "operator=input(\"Enter the operator and P for power\") \n",
    "val1= int(input(\"Enter the First Number\"))\n",
    "val2= int(input(\"Enter the Second Number\"))\n",
    "value=1\n",
    "if operator =='+':\n",
    "        print(val1+val2)\n",
    "elif operator=='-':\n",
    "        print(val1-val2) \n",
    "elif operator=='*':\n",
    "        print(val1*val2)\n",
    "elif operator=='/':\n",
    "        print(val1/val2)\n",
    "else:\n",
    "    \n",
    "    if operator == 'P':\n",
    "   \n",
    "        pow=int(input(\"Enter power\"))\n",
    "        a=1\n",
    "    \n",
    "        while a<=pow:\n",
    "            value=value*val1\n",
    "            a=a+1\n",
    "    print(value)"
   ]
  },
  {
   "cell_type": "code",
   "execution_count": 4,
   "metadata": {},
   "outputs": [
    {
     "name": "stdout",
     "output_type": "stream",
     "text": [
      "[23, 22, 9]\n"
     ]
    }
   ],
   "source": [
    "list_=[23,22,9,'s','6yus']\n",
    "new_list=[]\n",
    "\n",
    "for each in list_:\n",
    "    b=str(each)\n",
    "    if b.isdigit():\n",
    "        b=int(b)\n",
    "        new_list.append(b)\n",
    "\n",
    "print(new_list)"
   ]
  },
  {
   "cell_type": "code",
   "execution_count": 5,
   "metadata": {},
   "outputs": [
    {
     "name": "stdout",
     "output_type": "stream",
     "text": [
      "{'s': 43, 'h': 5, 'j': 0}\n"
     ]
    }
   ],
   "source": [
    "a = {'s':43,'h':5}\n",
    "a[\"j\"] =0\n",
    "print(a)"
   ]
  },
  {
   "cell_type": "code",
   "execution_count": 7,
   "metadata": {},
   "outputs": [
    {
     "name": "stdout",
     "output_type": "stream",
     "text": [
      "300\n"
     ]
    }
   ],
   "source": [
    "val = 0\n",
    "x={\n",
    "    'a':100,\n",
    "    'b':200\n",
    "}\n",
    "for each in x.values():\n",
    "    val = val + each\n",
    "print(val)"
   ]
  },
  {
   "cell_type": "code",
   "execution_count": 4,
   "metadata": {},
   "outputs": [
    {
     "name": "stdout",
     "output_type": "stream",
     "text": [
      "[92, 3]\n"
     ]
    }
   ],
   "source": [
    "p=[92,3,190,3,305,92,1,4,'dd']\n",
    "\n",
    "r =[]\n",
    "\n",
    "for e in p:\n",
    "    count =0\n",
    "    for f in p: \n",
    "        if e == f:\n",
    "            count= count +1\n",
    "    if count>1:\n",
    "            r.append(e)\n",
    "            p.remove(e)\n",
    "print(r)"
   ]
  },
  {
   "cell_type": "code",
   "execution_count": 18,
   "metadata": {},
   "outputs": [
    {
     "name": "stdout",
     "output_type": "stream",
     "text": [
      "Enter Key  25\n",
      "Key Already Exists\n"
     ]
    }
   ],
   "source": [
    "a={1:12,2:\"Sarim\",3:'a',25:'0'}\n",
    "c=1\n",
    "b = input(\"Enter Key  \")\n",
    "for each in a.keys():\n",
    "    each = str(each)\n",
    "    if each==b:\n",
    "        print(\"Key Already Exists\") \n"
   ]
  },
  {
   "cell_type": "code",
   "execution_count": null,
   "metadata": {},
   "outputs": [],
   "source": []
  }
 ],
 "metadata": {
  "kernelspec": {
   "display_name": "Python 3",
   "language": "python",
   "name": "python3"
  },
  "language_info": {
   "codemirror_mode": {
    "name": "ipython",
    "version": 3
   },
   "file_extension": ".py",
   "mimetype": "text/x-python",
   "name": "python",
   "nbconvert_exporter": "python",
   "pygments_lexer": "ipython3",
   "version": "3.7.4"
  }
 },
 "nbformat": 4,
 "nbformat_minor": 2
}
