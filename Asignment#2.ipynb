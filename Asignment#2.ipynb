{
 "cells": [
  {
   "cell_type": "code",
   "execution_count": 12,
   "metadata": {},
   "outputs": [
    {
     "name": "stdout",
     "output_type": "stream",
     "text": [
      "Enter Math Marks out of 100= 89\n",
      "Enter English Marks out of 100= 76\n",
      "Enter Urdu Marks out of 100= 89\n",
      "Enter Science Marks out of 100= 77\n",
      "Enter Islamiat Marks out of 100= 90\n",
      "Total number=  421\n",
      "Percentage= 84.2\n",
      "A+ Grade\n"
     ]
    }
   ],
   "source": [
    "math=int(input(\"Enter Math Marks out of 100= \"))\n",
    "eng=int(input(\"Enter English Marks out of 100= \"))\n",
    "urdu=int(input(\"Enter Urdu Marks out of 100= \"))\n",
    "sci=int(input(\"Enter Science Marks out of 100= \"))\n",
    "isl=int(input(\"Enter Islamiat Marks out of 100= \"))\n",
    "Total=math+eng+urdu+sci+isl\n",
    "print(\"Total number= \",Total)\n",
    "Percent=Total*100/500\n",
    "print(\"Percentage=\",Percent)\n",
    "if Percent >= 80:\n",
    "    print(\"A+ Grade\")\n",
    "elif Percent  >= 70 and Percent < 80:\n",
    "    print(\"A Grade\")\n",
    "elif Percent >= 60 and Percent < 70:\n",
    "    print(\"B Grade\")\n",
    "elif Percent >=50  and Percent < 60:\n",
    "    print(\"C Grade\")\n",
    "else :\n",
    "    print(\"FAIL\")"
   ]
  },
  {
   "cell_type": "code",
   "execution_count": 6,
   "metadata": {},
   "outputs": [
    {
     "name": "stdout",
     "output_type": "stream",
     "text": [
      "Enter Number65\n",
      "Given Number is Odd\n"
     ]
    }
   ],
   "source": [
    "num=int(input(\"Enter Number\"))\n",
    "if num%2==0:\n",
    "    print(\"Given number is Even\")\n",
    "else :\n",
    "    print(\"Given Number is Odd\")"
   ]
  },
  {
   "cell_type": "code",
   "execution_count": 7,
   "metadata": {},
   "outputs": [
    {
     "name": "stdout",
     "output_type": "stream",
     "text": [
      "Length of Line is:  5\n"
     ]
    }
   ],
   "source": [
    "Line=[\"Ibad\",99,0.987,False,\"Kamran\"]\n",
    "print(\"Length of Line is: \",len(Line))"
   ]
  },
  {
   "cell_type": "code",
   "execution_count": 13,
   "metadata": {},
   "outputs": [
    {
     "name": "stdout",
     "output_type": "stream",
     "text": [
      "Total: 102\n"
     ]
    }
   ],
   "source": [
    "num=[34,65,2,1]\n",
    "print(\"Total:\",sum(num))"
   ]
  },
  {
   "cell_type": "code",
   "execution_count": 14,
   "metadata": {},
   "outputs": [
    {
     "name": "stdout",
     "output_type": "stream",
     "text": [
      "Largest number:  987\n"
     ]
    }
   ],
   "source": [
    "larg=[34,1,3,5,90,987]\n",
    "print(\"Largest number: \",max(larg))"
   ]
  },
  {
   "cell_type": "code",
   "execution_count": 17,
   "metadata": {},
   "outputs": [
    {
     "name": "stdout",
     "output_type": "stream",
     "text": [
      "1\n",
      "1\n",
      "2\n",
      "3\n"
     ]
    }
   ],
   "source": [
    "a = [1, 1, 2, 3, 5, 8, 13, 21, 34, 55, 89]\n",
    "for b in a:\n",
    "    if b < 5:\n",
    "        print(b)\n"
   ]
  },
  {
   "cell_type": "code",
   "execution_count": null,
   "metadata": {},
   "outputs": [],
   "source": []
  }
 ],
 "metadata": {
  "kernelspec": {
   "display_name": "Python 3",
   "language": "python",
   "name": "python3"
  },
  "language_info": {
   "codemirror_mode": {
    "name": "ipython",
    "version": 3
   },
   "file_extension": ".py",
   "mimetype": "text/x-python",
   "name": "python",
   "nbconvert_exporter": "python",
   "pygments_lexer": "ipython3",
   "version": "3.7.4"
  }
 },
 "nbformat": 4,
 "nbformat_minor": 2
}
